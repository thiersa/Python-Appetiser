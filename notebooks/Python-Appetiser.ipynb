{
 "cells": [
  {
   "cell_type": "markdown",
   "metadata": {
    "slideshow": {
     "slide_type": "slide"
    }
   },
   "source": [
    "# Python Appetiser - an Overview\n",
    "1. Intro Python\n",
    "2. os.walk\n",
    "3. Webscraping met BeautifulSoup (with star performer requests)\n",
    "4. Relationele databases\n",
    "5. Pandas &amp; matplotlib\n",
    "6. Webserver met Flask\n",
    "7. Jinja2 templating\n",
    "8. Log file analysis"
   ]
  },
  {
   "cell_type": "code",
   "execution_count": null,
   "metadata": {
    "slideshow": {
     "slide_type": "subslide"
    }
   },
   "outputs": [],
   "source": [
    "from IPython.display import display, IFrame\n",
    "\n",
    "def iframe(src, width='100%', height=300):\n",
    "    return IFrame(src, width=str(width), height=str(height), scrolling='no', frameborder='0')"
   ]
  },
  {
   "cell_type": "markdown",
   "metadata": {
    "slideshow": {
     "slide_type": "slide"
    }
   },
   "source": [
    "# Intro Python\n",
    "\n",
    "Python is a very powerful programming language\n",
    "* designed to create readable code\n",
    "* a very ecosystem covering many domains\n",
    "* very portable (Windows, UNIX/Linux, Mac OSX, ...)\n",
    "* mixes well with other languages\n",
    "* easy to learn\n",
    "* indentation matters\n",
    "* two versions:\n",
    "  - Python 2 still being used (not all modules available in version 3)\n",
    "  - Python 3 adoption is almost complete"
   ]
  },
  {
   "cell_type": "markdown",
   "metadata": {
    "slideshow": {
     "slide_type": "subslide"
    }
   },
   "source": [
    "## Install Python\n",
    "\n",
    "* Basic installation (pre-packaged from https://www.python.org/downloads/), or\n",
    "* Available from your OS (bijv. Red Hat, SuSE, Mac OS X)\n",
    "* Python distribution (add many additional packages to standard Python):\n",
    "    - WinPython, \n",
    "    - ActivePython,\n",
    "    - Anaconda,\n",
    "    - Enthought Canopy, \n",
    "    - Python(x,y)"
   ]
  },
  {
   "cell_type": "markdown",
   "metadata": {
    "slideshow": {
     "slide_type": "subslide"
    }
   },
   "source": [
    "## Extend Python\n",
    "* `pip` (\"Pip Installs Packages\")\n",
    "    - standard tool, repository: Python Package Index (PyPI, > 185k packages)\n",
    "* OS specific\n",
    "    - `yum` (Red Hat-like Linux systems, also SuSE)\n",
    "    - `apt-get` (Debian-like Linux system, like Ubuntu)\n",
    "    - `HomeBrew` (Mac OS X)\n",
    "* Distribution specific, e.g.:\n",
    "    - `enpkg` (for Enthought Canopy), and\n",
    "    - `conda` (for Continuum's Anaconda)"
   ]
  },
  {
   "cell_type": "markdown",
   "metadata": {
    "slideshow": {
     "slide_type": "subslide"
    }
   },
   "source": [
    "## PIP (package manager/installer program)\n",
    "Many packages and modules are pre-installed with each Python installation. <br/>\n",
    "Use pip to list, add or remove additional ones.\n",
    "* `user@system:~$: pip --help` to learn about pip commands and flags\n",
    "\n",
    "* `user@system:~$: pip list` to list installed packages\n",
    "\n",
    "* `user@system:~$: pip install pkg` to install a packages\n",
    "\n",
    "Some Python distributions have their own manager/installer.\n",
    "* e.g. Anaconda uses `conda`"
   ]
  },
  {
   "cell_type": "markdown",
   "metadata": {
    "slideshow": {
     "slide_type": "slide"
    }
   },
   "source": [
    "## The Python lifecycle\n",
    "\n",
    "* **1989**: Python version 1\n",
    "* **2000**: Python version 2\n",
    "* **2008**: Python version 3\n",
    "\n",
    "\n",
    "The latest major release is 3.7.\n",
    "\n",
    "Python 2 is still being supported, but no new features will be added: <br/>\n",
    "2.7 is the final major Python 2 release.\n",
    "\n",
    "Python 2 and 3 are  incompatible. The biggest differences:\n",
    "\n",
    "- strings: ASCII vs. Unicode\n",
    "- print: statement vs. function\n",
    "- integer division: integer vs. floating point result\n",
    "- common use of generators"
   ]
  },
  {
   "cell_type": "markdown",
   "metadata": {
    "slideshow": {
     "slide_type": "subslide"
    }
   },
   "source": [
    "* Python was inspired by the computer language *ABC*\n",
    "* developed at the CWI\n",
    "* a tool to teach students how to program.\n",
    "\n",
    "The main developers of  *ABC* are Frank van Dijk, Timo Krijnen, Guido van Rossum\n",
    "and Eddy Boeve.\n",
    "\n",
    "The difference between Python and *ABC* is in the possibility to make real applications and not\n",
    "just code examples or small scripts."
   ]
  },
  {
   "cell_type": "markdown",
   "metadata": {
    "slideshow": {
     "slide_type": "slide"
    }
   },
   "source": [
    "## Creating and executing a Python program\n",
    "* To execute a python script, type `python` followed by the name of the script\n",
    "\n",
    "  ```\n",
    "    user@system:~$: python hello_world.py\n",
    "  ```\n",
    "  "
   ]
  },
  {
   "cell_type": "markdown",
   "metadata": {
    "slideshow": {
     "slide_type": "fragment"
    }
   },
   "source": [
    "* Use an editor like `sublime text`, `vim` or `emacs` to create or modify the script\n",
    "\n",
    "  ```\n",
    "    user@system:~$: vim hello_world.py\n",
    "  ```\n",
    "  "
   ]
  },
  {
   "cell_type": "markdown",
   "metadata": {
    "slideshow": {
     "slide_type": "fragment"
    }
   },
   "source": [
    "* Python can also be used interactively - like a command shell\n",
    "\n",
    "  ```\n",
    "    user@system:~$: python\n",
    "    Python 3.7.3 (default, Mar 27 2019, 22:11:17) \n",
    "    [GCC 7.3.0] :: Anaconda, Inc. on linux\n",
    "    Type \"help\", \"copyright\", \"credits\" or \"license\" for more information.\n",
    "    >>> print('Hello, World!')\n",
    "    Hello, World!\n",
    "    >>> quit()\n",
    "  ```"
   ]
  },
  {
   "cell_type": "markdown",
   "metadata": {
    "slideshow": {
     "slide_type": "subslide"
    }
   },
   "source": [
    "## Variables\n",
    "Python variables are strongly typed\n",
    "* no explicit type declaration\n",
    "* the assigned value determines the type"
   ]
  },
  {
   "cell_type": "markdown",
   "metadata": {
    "slideshow": {
     "slide_type": "fragment"
    }
   },
   "source": [
    "Names of variables\n",
    "* consist of letters, numbers and underscores (`_`)\n",
    "* must start with a letter or an underscore\n",
    "* are case sensitive\n",
    "* the use of non-western letters is deprecated\n",
    "* no reserved words such as:\n",
    "    `if`, `for`, `with` and `in`."
   ]
  },
  {
   "cell_type": "markdown",
   "metadata": {
    "slideshow": {
     "slide_type": "subslide"
    }
   },
   "source": [
    "## Simple data types\n",
    "The basic data types are:\n",
    "- numbers:\n",
    "  - integer (`int`)\n",
    "  - real (`float`)\n",
    "  - complexe getallen (`complex`)\n",
    "\n",
    "- text:  Unicode strings (`str`)\n",
    "- Boolean:  truth-values (`bool`)"
   ]
  },
  {
   "cell_type": "markdown",
   "metadata": {
    "slideshow": {
     "slide_type": "subslide"
    }
   },
   "source": [
    "### Numbers: `int`\n",
    "\n",
    "The numerical type for integer numbers is `int`.\n",
    "\n",
    "Examples of integer numbers:"
   ]
  },
  {
   "cell_type": "code",
   "execution_count": null,
   "metadata": {
    "slideshow": {
     "slide_type": "fragment"
    }
   },
   "outputs": [],
   "source": [
    "42                               # decimal notation "
   ]
  },
  {
   "cell_type": "code",
   "execution_count": null,
   "metadata": {
    "slideshow": {
     "slide_type": "fragment"
    }
   },
   "outputs": [],
   "source": [
    "0b1001                           # binary notation"
   ]
  },
  {
   "cell_type": "code",
   "execution_count": null,
   "metadata": {
    "slideshow": {
     "slide_type": "fragment"
    }
   },
   "outputs": [],
   "source": [
    "0xff                              # hexadecimal notation"
   ]
  },
  {
   "cell_type": "code",
   "execution_count": null,
   "metadata": {
    "scrolled": true,
    "slideshow": {
     "slide_type": "fragment"
    }
   },
   "outputs": [],
   "source": [
    "7137789078178097823478092341789 ** 20\n",
    "# no effective size limit"
   ]
  },
  {
   "cell_type": "markdown",
   "metadata": {
    "slideshow": {
     "slide_type": "subslide"
    }
   },
   "source": [
    "### Numbers: `float`\n",
    "\n",
    "The type for real numbers is `float`.<br/>\n",
    "Some real numbers:"
   ]
  },
  {
   "cell_type": "code",
   "execution_count": null,
   "metadata": {
    "slideshow": {
     "slide_type": "-"
    }
   },
   "outputs": [],
   "source": [
    "3.141592653589793            # Pi"
   ]
  },
  {
   "cell_type": "code",
   "execution_count": null,
   "metadata": {
    "slideshow": {
     "slide_type": "fragment"
    }
   },
   "outputs": [],
   "source": [
    "6.022140857e23               # Avogadro"
   ]
  },
  {
   "cell_type": "code",
   "execution_count": null,
   "metadata": {
    "slideshow": {
     "slide_type": "fragment"
    }
   },
   "outputs": [],
   "source": [
    "1.0 * 10**100                # Googol"
   ]
  },
  {
   "cell_type": "markdown",
   "metadata": {
    "slideshow": {
     "slide_type": "slide"
    }
   },
   "source": [
    "### Text: `str`\n",
    "\n",
    "A string (type `str`) is a sequence of *Unicode*-characters.\n",
    "- between single (`'`) or double (`\"`) quotes (begin and end must match)"
   ]
  },
  {
   "cell_type": "code",
   "execution_count": null,
   "metadata": {
    "slideshow": {
     "slide_type": "fragment"
    }
   },
   "outputs": [],
   "source": [
    "\"Here's Python!\""
   ]
  },
  {
   "cell_type": "code",
   "execution_count": null,
   "metadata": {
    "slideshow": {
     "slide_type": "fragment"
    }
   },
   "outputs": [],
   "source": [
    "'Inspired by \"Monty Python\"' "
   ]
  },
  {
   "cell_type": "markdown",
   "metadata": {
    "slideshow": {
     "slide_type": "fragment"
    }
   },
   "source": [
    "- backslash (`\\`) starts an escape code for special characters:"
   ]
  },
  {
   "cell_type": "code",
   "execution_count": null,
   "metadata": {
    "slideshow": {
     "slide_type": "-"
    }
   },
   "outputs": [],
   "source": [
    "print(\"characters like \\t, \\\\, \\n and \\\"it costs \\u20ac12,-\\\"\")"
   ]
  },
  {
   "cell_type": "markdown",
   "metadata": {
    "slideshow": {
     "slide_type": "slide"
    }
   },
   "source": [
    "### Boolean: `bool`\n",
    "\n",
    "The Boolean data type denotes truth values true or false.\n",
    "- Reserved words: `True` en `False`\n",
    "- Important for flow control in your program.\n",
    "- Often the result of logical operations and comparisons"
   ]
  },
  {
   "cell_type": "code",
   "execution_count": null,
   "metadata": {
    "slideshow": {
     "slide_type": "-"
    }
   },
   "outputs": [],
   "source": [
    "5 <= -10"
   ]
  },
  {
   "cell_type": "code",
   "execution_count": null,
   "metadata": {
    "slideshow": {
     "slide_type": "fragment"
    }
   },
   "outputs": [],
   "source": [
    "6 / 4 == 1.5"
   ]
  },
  {
   "cell_type": "markdown",
   "metadata": {
    "slideshow": {
     "slide_type": "slide"
    }
   },
   "source": [
    "# Quiz"
   ]
  },
  {
   "cell_type": "markdown",
   "metadata": {
    "slideshow": {
     "slide_type": "slide"
    }
   },
   "source": [
    "## Statements\n",
    "\n",
    "Python is line oriented: each line is one statement.<br/>\n",
    "Split long statements into multiple lines:\n",
    "- add a backslash (`\\`), just before the line end:\n",
    "``` python\n",
    "    moving_average = first_function(observations) / \\\n",
    "                        second_function(observations, 3)\n",
    "```\n",
    "- construction with parentheses ( `()`, `[]` or `{}`) is allowed over multiple lines:\n",
    "``` python\n",
    "    result = my_function(observations,\n",
    "                         'Description'\n",
    "                          (1, 3, 6))\n",
    "```"
   ]
  },
  {
   "cell_type": "markdown",
   "metadata": {
    "slideshow": {
     "slide_type": "subslide"
    }
   },
   "source": [
    "### Blocks\n",
    "\n",
    "Code blocks are determined by indentation.\n",
    "- Example `if` - statement:\n",
    "``` python\n",
    "    if a <= b:\n",
    "        if a != b:\n",
    "            print(\"a is smaller than b\")\n",
    "    else:\n",
    "        print(\"a is greater than b\")\n",
    "```\n",
    "- recommended:\n",
    "  * use 4 spaces per indentation level"
   ]
  },
  {
   "cell_type": "markdown",
   "metadata": {
    "slideshow": {
     "slide_type": "subslide"
    }
   },
   "source": [
    "### `if` - statement\n",
    "``` python\n",
    "    if condition:\n",
    "        code block\n",
    "        \n",
    "    elif condition:\n",
    "        code block\n",
    "        \n",
    "    else:\n",
    "        code block\n",
    "        ....\n",
    "```\n",
    "- the `elif`-part can occur zero or more times\n",
    "- the `else`-part is optional"
   ]
  },
  {
   "cell_type": "markdown",
   "metadata": {
    "slideshow": {
     "slide_type": "subslide"
    }
   },
   "source": [
    "### `while` - loop\n",
    "``` python\n",
    "    while condition:\n",
    "        code block\n",
    "```\n",
    "As long as `condition` is True, the code block is executed.\n",
    "\n",
    "It is possible to *jump* out of the loop using a `break`-statement. Example:"
   ]
  },
  {
   "cell_type": "code",
   "execution_count": null,
   "metadata": {
    "slideshow": {
     "slide_type": "fragment"
    }
   },
   "outputs": [],
   "source": [
    "n = 1\n",
    "fac = 1\n",
    "\n",
    "while n < 100:\n",
    "    fac = fac * n\n",
    "    if fac > 10000:\n",
    "        break\n",
    "    print(n, fac)\n",
    "    n = n + 1"
   ]
  },
  {
   "cell_type": "markdown",
   "metadata": {
    "slideshow": {
     "slide_type": "slide"
    }
   },
   "source": [
    "### `for`-loop\n",
    "Do something for all elements in a collection.\n",
    "``` python\n",
    "    for element in collection:\n",
    "        code block\n",
    "```\n",
    "The `for`-loop is use with all collection types.<br/>\n",
    "It works identical for all of them:\n"
   ]
  },
  {
   "cell_type": "code",
   "execution_count": null,
   "metadata": {
    "slideshow": {
     "slide_type": "-"
    }
   },
   "outputs": [],
   "source": [
    "l = [1, 2, 4]                             # list\n",
    "s = \"Hey\"                                 # string\n",
    "d = {\"a\": 15, \"e\": 3, \"i\": 13}            # dict"
   ]
  },
  {
   "cell_type": "code",
   "execution_count": null,
   "metadata": {
    "scrolled": true,
    "slideshow": {
     "slide_type": "fragment"
    }
   },
   "outputs": [],
   "source": [
    "for e in d: \n",
    "    print(e)"
   ]
  },
  {
   "cell_type": "code",
   "execution_count": null,
   "metadata": {
    "slideshow": {
     "slide_type": "fragment"
    }
   },
   "outputs": [],
   "source": [
    "for e in s: print(e, end=' ')"
   ]
  },
  {
   "cell_type": "code",
   "execution_count": null,
   "metadata": {
    "slideshow": {
     "slide_type": "fragment"
    }
   },
   "outputs": [],
   "source": [
    "for e in d: print(e, d[e], end=' ')"
   ]
  },
  {
   "cell_type": "markdown",
   "metadata": {
    "slideshow": {
     "slide_type": "subslide"
    }
   },
   "source": [
    "### Exceptions\n",
    "Errors that are not caught (more general: Exceptions) cause a program to crash.\n",
    "``` python\n",
    "   n_items = 0\n",
    "   print(5 / n_items)\n",
    "```\n",
    "```\n",
    "   ---------------------------------------------------------------------------\n",
    "   ZeroDivisionError                         Traceback (most recent call last)\n",
    "   <ipython-input-20-97156f842340> in <module>()\n",
    "         1 n_items = 0\n",
    "   ----> 2 print(5 / n_items)\n",
    "\n",
    "   ZeroDivisionError: division by zero\n",
    "```"
   ]
  },
  {
   "cell_type": "markdown",
   "metadata": {
    "slideshow": {
     "slide_type": "fragment"
    }
   },
   "source": [
    "- Of course, you can be defensive and check everything beforehand...\n",
    "- but there is a more convenient way..."
   ]
  },
  {
   "cell_type": "markdown",
   "metadata": {
    "slideshow": {
     "slide_type": "subslide"
    }
   },
   "source": [
    "### Catch exceptions `try: except:`"
   ]
  },
  {
   "cell_type": "code",
   "execution_count": null,
   "metadata": {
    "slideshow": {
     "slide_type": "-"
    }
   },
   "outputs": [],
   "source": [
    "n_items = 0\n",
    "\n",
    "try:\n",
    "    print(5 / n_items)\n",
    "    print(\"Calculation is ready\")\n",
    "except ZeroDivisionError:\n",
    "    print(\"There where no items\")\n",
    "\n",
    "print(\"This part is always reached\")"
   ]
  },
  {
   "cell_type": "markdown",
   "metadata": {
    "slideshow": {
     "slide_type": "slide"
    }
   },
   "source": [
    "# Quiz"
   ]
  },
  {
   "cell_type": "markdown",
   "metadata": {
    "slideshow": {
     "slide_type": "slide"
    }
   },
   "source": [
    "## Container structures\n",
    "Container types - objects that can contain other objects\n",
    "\n",
    "| type  | description |          examples              | content           | properties\n",
    "|:------|:------------|:------------------------------|:------------------|:---------\n",
    "| str   | String      | `'Ni Hao', \"Don't mind\"`        | chars             | immutable, ordered\n",
    "| list  | List        | `[1, 2, 'Peter', 4]`            | objects           | mutable, ordered\n",
    "| tuple | Tuple       | `(1, 2, 'ABC', 4, 'U')`         | objects           | immutable, ordered\n",
    "| dict  | Dictionary  | `{'John': 1975, 'Mary': 1979}`  | objects           | mutable, unordered, key-access\n",
    "| set   | Set         | `{3, 42, 19, 55}`               | immutable objects | mutable, unordered\n"
   ]
  },
  {
   "cell_type": "markdown",
   "metadata": {
    "slideshow": {
     "slide_type": "subslide"
    }
   },
   "source": [
    "### `list`\n",
    "- mutable: replace, add or remove elements\n",
    "- can contain arbitrary objects\n",
    "- order is maintained\n",
    "- use an index or a slice to retrieve elements"
   ]
  },
  {
   "cell_type": "code",
   "execution_count": null,
   "metadata": {
    "scrolled": true,
    "slideshow": {
     "slide_type": "-"
    }
   },
   "outputs": [],
   "source": [
    "k = []                     # an empty list\n",
    "l = [\"first\", 2, 3]        # 3 elements\n",
    "m = [\"combi\", k, l]        # a list with elements from the previous\n",
    "print(m)\n",
    "\n",
    "[ x * x  for x in range(10)]"
   ]
  },
  {
   "cell_type": "markdown",
   "metadata": {
    "slideshow": {
     "slide_type": "subslide"
    }
   },
   "source": [
    "### `list` *indexing* and *slicing*"
   ]
  },
  {
   "cell_type": "code",
   "execution_count": null,
   "metadata": {
    "slideshow": {
     "slide_type": "-"
    }
   },
   "outputs": [],
   "source": [
    "primes = [2, 3, 5, 7, 11, 13]   # create a list\n",
    "primes[1]                       # retrieve the 2nd element"
   ]
  },
  {
   "cell_type": "code",
   "execution_count": null,
   "metadata": {
    "slideshow": {
     "slide_type": "fragment"
    }
   },
   "outputs": [],
   "source": [
    "primes[0:3]                     # retrieve the elements 0, 1 and 2 op"
   ]
  },
  {
   "cell_type": "code",
   "execution_count": null,
   "metadata": {
    "slideshow": {
     "slide_type": "subslide"
    }
   },
   "outputs": [],
   "source": [
    "if 7 in primes:                  # check if 7 is an element of primes\n",
    "    print('yes!')\n",
    "else:\n",
    "    print('No')"
   ]
  },
  {
   "cell_type": "code",
   "execution_count": null,
   "metadata": {
    "scrolled": true,
    "slideshow": {
     "slide_type": "fragment"
    }
   },
   "outputs": [],
   "source": [
    "pp = primes[:]                  # make a copy of primes\n",
    "pp.append(17)                   # add 17 at the end of this copy\n",
    "help(pp.sort)"
   ]
  },
  {
   "cell_type": "markdown",
   "metadata": {
    "slideshow": {
     "slide_type": "-"
    }
   },
   "source": [
    "For lists (and other sequences) Python uses an index, \n",
    "which starts from 0 and ends with *n-1*, with *n* the number of elements."
   ]
  },
  {
   "cell_type": "markdown",
   "metadata": {
    "slideshow": {
     "slide_type": "subslide"
    }
   },
   "source": [
    "#### list methods:\n",
    "| method       | signature            | returns| description |\n",
    "|--------------|----------------------|--------|-------------|\n",
    "| **append()** | `L.append(object)`   | `None` | add an object at the end |\n",
    "| **clear()**  | `L.clear()`          | `None` | remove all items from L |\n",
    "| **copy()**   | `L.copy()`           | `list` | a shallow copy of L |\n",
    "| **count()**  | `L.count(value)`     | `int`  | returns the number of occurrences of value in L |\n",
    "| **extend()** | `L.extend(iterable)` | `None` | extend the list with the elements in iterable |\n",
    "| **index()**  | `L.index(value, [start, [stop]])` | `int` | returns the index of the first occurence of value. ValueError if not found. |\n",
    "| **insert()** | `L.insert(index, object)` | `None` | at object at position index |\n",
    "| **pop()**    | `L.pop(index=-1)`    | `item` | remove and return the item at index. IndexError if empty list or wrong index. |\n",
    "| **remove()** | `L.remove(value)`    | `None` | remove the first occurence of value. ValueError if value not found. |\n",
    "| **sort()**   | `L.sort(key=None, reverse=False)` | `None` | sort *IN SITU* |"
   ]
  },
  {
   "cell_type": "markdown",
   "metadata": {
    "slideshow": {
     "slide_type": "subslide"
    }
   },
   "source": [
    "### `dict`\n",
    "- mutable: replace, add or remove elements\n",
    "- can contain arbitrary objects\n",
    "- each element is stored with an associated key\n",
    "- key must be unique and immutable\n",
    "- a single element can be retrieved with the key"
   ]
  },
  {
   "cell_type": "code",
   "execution_count": null,
   "metadata": {
    "slideshow": {
     "slide_type": "fragment"
    }
   },
   "outputs": [],
   "source": [
    "d = { 1: 3, \"two\": 6, 3: 0}    # a dict with keys 1, \"two\" and 3\n",
    "d['googol'] = 10.0 ** 100       # add a big value with key \"googol\"\n",
    "d[\"two\"]                       # retrieve the value from key \"two\"\n",
    "d"
   ]
  },
  {
   "cell_type": "code",
   "execution_count": null,
   "metadata": {
    "slideshow": {
     "slide_type": "fragment"
    }
   },
   "outputs": [],
   "source": [
    "6 in d                         # d has a key 1"
   ]
  },
  {
   "cell_type": "code",
   "execution_count": null,
   "metadata": {
    "slideshow": {
     "slide_type": "fragment"
    }
   },
   "outputs": [],
   "source": [
    "del d[3]                       # delete the element with key 3\n",
    "d"
   ]
  },
  {
   "cell_type": "markdown",
   "metadata": {
    "slideshow": {
     "slide_type": "subslide"
    }
   },
   "source": [
    "#### Dict methods:\n",
    "\n",
    "| method           | signature      | returns   | description |\n",
    "|------------------|----------------|-----------|-------------|\n",
    "| **clear()**      | `D.clear()`    | `None`    | empty `D`   |\n",
    "| **copy()**       | `D.copy()`     | dict      | make a shallow copy of `D` | \n",
    "| **fromkeys()**   | `dict.fromkeys(iterable, value=None)` | dict | make a new dict with keys from iterable and values equal to value. | \n",
    "| **get()**        | `D.get(k[,d])` | `v` | `D[k]` if `k` in `D` and `d` otherwise. Default value of `d` is `None` | \n",
    "| **items()**      | `D.items()`    | `{(k,v),...}` | return a list-like object with `D`'s key-value pairs | \n",
    "| **keys()**       | `D.keys()`     | `{k,...}` | return a list-like object with `D`'s keys | \n",
    "| **pop()**        | `D.pop(k[,d])` | `v` | remove the indicated key and return its associated value. If `k` is not found `d` is returned. KeyError if also `d` is not provided. | \n",
    "| **popitem()**    | `D.popitem()`  | `(k, v)`  | remove and return an arbitrary key-value pair as a 2-tuple; KeyError if `D` is empty. | \n",
    "| **setdefault()** | `D.setdefault(k[,d])` | `v`| `D.get(k,d)`, als put `D[k]=d` if `k` not in `D` | \n",
    "| **update()**     | `D.update([E,] **F)` | `None`  | update `D` from dict/iterable `E` en `F`.        If `E` is given and `E.keys()` exists, then:        `for k in E: D[k] = E[k]`        If `E` is geven, but there is no method `E.keys()`, then:        `for k, v in E: D[k] = v`        In any case followed by: `for k in F:  D[k] = F[k]` | \n",
    "| **values()**     | `D.values()`       | `[v,...]` | return a list-like object with `D`'s values | "
   ]
  },
  {
   "cell_type": "markdown",
   "metadata": {
    "slideshow": {
     "slide_type": "slide"
    }
   },
   "source": [
    "# Quiz"
   ]
  },
  {
   "cell_type": "markdown",
   "metadata": {
    "slideshow": {
     "slide_type": "slide"
    }
   },
   "source": [
    "## File I/O\n",
    "### Opening a file\n",
    "``` python\n",
    "    f = open(fname, mode)\n",
    "```\n",
    "open modes:\n",
    "\n",
    "| Character\t| Description | Remark\n",
    "|-----------|-------------|-------------------------------------------------\n",
    "| '`r`'     | read        | (default) error if file does not exist\n",
    "| '`w`'     | write\t      | truncate the file, create a new one if necessary\n",
    "| '`x`'     | create      | error if the file exists\n",
    "| '`a`'     | append      | create a new file if necessary\n",
    "can be combined with:\n",
    "\n",
    "| Character\t| Description | Remark\n",
    "|-----------|-------------|-------------------------------------------------\n",
    "| '`t`'     | text mode   | (default) uses strings (`\"...\"`)\n",
    "| '`b`'     | binary mode | uses `bytes` objects (`b\"...\"`)\n",
    "| '`+`'     | updating    | reading *and* writing\n"
   ]
  },
  {
   "cell_type": "markdown",
   "metadata": {
    "slideshow": {
     "slide_type": "subslide"
    }
   },
   "source": [
    "### Reading text files"
   ]
  },
  {
   "cell_type": "code",
   "execution_count": null,
   "metadata": {
    "slideshow": {
     "slide_type": "-"
    }
   },
   "outputs": [],
   "source": [
    "import sys\n",
    "\n",
    "fname = \"../data/story.txt\"\n",
    "\n",
    "try:\n",
    "    f = open(fname, \"rt\")              # open-call can fail, so ...\n",
    "except Exception:                      # always protect with try: except:\n",
    "    sys.exit(\"Cannot open \" + fname)   # exit with error message\n",
    "\n",
    "freq = {}\n",
    "for line in f: \n",
    "    words = line.split()               # file is like a sequence of lines\n",
    "    for word in words:\n",
    "        if word in freq:\n",
    "            freq[word] += 1 \n",
    "        else:\n",
    "            freq[word] = 1             # split() returns the words in the line\n",
    "\n",
    "f.close()                              # don't forget to close the file\n",
    "for word in sorted(freq, key=freq.get, reverse=True):\n",
    "    print(word, freq[word])\n",
    "help(sorted)"
   ]
  },
  {
   "cell_type": "markdown",
   "metadata": {
    "slideshow": {
     "slide_type": "subslide"
    }
   },
   "source": [
    "### Writing text files\n",
    "\n",
    "There is a low-level `write()` function, but it is easier to use `print()` with the `file` argument.\n",
    " "
   ]
  },
  {
   "cell_type": "code",
   "execution_count": null,
   "metadata": {
    "slideshow": {
     "slide_type": "-"
    }
   },
   "outputs": [],
   "source": [
    "fname = \"../tmp/two_powers.txt\"\n",
    "try:\n",
    "    f = open(fname, \"wt\")\n",
    "except Exception:\n",
    "    sys.exit(\"Cannot create \" + fname)\n",
    "    \n",
    "for n in range(10):\n",
    "    print(n, \":\", 2**n, file=f)\n",
    "    \n",
    "f.close() "
   ]
  },
  {
   "cell_type": "markdown",
   "metadata": {
    "slideshow": {
     "slide_type": "slide"
    }
   },
   "source": [
    "## Functions\n",
    "Defining a function:\n"
   ]
  },
  {
   "cell_type": "code",
   "execution_count": null,
   "metadata": {
    "slideshow": {
     "slide_type": "-"
    }
   },
   "outputs": [],
   "source": [
    "def times(x, y):\n",
    "    result = x * y\n",
    "    return result"
   ]
  },
  {
   "cell_type": "markdown",
   "metadata": {
    "slideshow": {
     "slide_type": "fragment"
    }
   },
   "source": [
    "Using a function:"
   ]
  },
  {
   "cell_type": "code",
   "execution_count": null,
   "metadata": {
    "slideshow": {
     "slide_type": "-"
    }
   },
   "outputs": [],
   "source": [
    "r = times(3, 5)\n",
    "r"
   ]
  },
  {
   "cell_type": "markdown",
   "metadata": {
    "slideshow": {
     "slide_type": "slide"
    }
   },
   "source": [
    "### Function arguments\n",
    "\n",
    "Calling functies can be in 2 ways:\n",
    "- positional arguments\n",
    "- keyword arguments\n",
    "\n",
    "``` python\n",
    "    def line_to(x_pos, y_pos):\n",
    "        code block ...\n",
    "```\n",
    "Various ways to call:\n",
    "``` python\n",
    "    line_to(160, 5)                # positional arguments\n",
    "    line_to(x_pos=160, y_pos=5)    # explicitly name (keyword) arguments\n",
    "    line_to(y_pos=5, x_pos=160)    # not necessary to use them in order\n",
    "```\n",
    "Use good, descriptive names!   "
   ]
  },
  {
   "cell_type": "markdown",
   "metadata": {
    "slideshow": {
     "slide_type": "subslide"
    }
   },
   "source": [
    "### Default function arguments\n",
    "In the definition of a function you can indicate default values for the arguments.\n",
    "``` python\n",
    "    def line_to(x_pos=0, y_pos=0):\n",
    "        code block ...\n",
    "```"
   ]
  },
  {
   "cell_type": "markdown",
   "metadata": {
    "slideshow": {
     "slide_type": "fragment"
    }
   },
   "source": [
    "Now you can call this function in various ways:\n",
    "``` python\n",
    "    line_to()             # x_pos=0, y_pos=0\n",
    "    line_to(100)          # x_pos=100, y_pos=0\n",
    "    line_to(100, 50)      # x_pos=100, y_pos=50\n",
    "```"
   ]
  },
  {
   "cell_type": "markdown",
   "metadata": {
    "slideshow": {
     "slide_type": "fragment"
    }
   },
   "source": [
    "And with keyword arguments:\n",
    "``` python\n",
    "    line_to(x_pos=100)    # x_pos=100, y_pos=0\n",
    "    line_to(y_pos=50)     # x_pos=0, y_pos=50\n",
    "```"
   ]
  },
  {
   "cell_type": "markdown",
   "metadata": {
    "slideshow": {
     "slide_type": "slide"
    }
   },
   "source": [
    "## Modules\n",
    "\n",
    "Modules allow for:\n",
    "- re-usage of functionality\n",
    "- ease of maintenance\n",
    "\n",
    "and usually contain:\n",
    "- function definitions\n",
    "- variables (often used as constants)\n",
    "- class definitions\n",
    "- *(can also contain runnable code)*"
   ]
  },
  {
   "cell_type": "markdown",
   "metadata": {
    "slideshow": {
     "slide_type": "subslide"
    }
   },
   "source": [
    "The name of the script is the module name with the suffix `.py`.\n",
    "\n",
    "Example `mymod.py`:\n",
    "``` python\n",
    "    def times(n, arg):\n",
    "        return n * str(arg)\n",
    "```"
   ]
  },
  {
   "cell_type": "markdown",
   "metadata": {
    "slideshow": {
     "slide_type": "subslide"
    }
   },
   "source": [
    "### Using functions from a module\n",
    "#### the `import` statement\n",
    "``` python\n",
    "    import mymod\n",
    "    \n",
    "    mymod.times(3, ['alpha', 'beta'])\n",
    "```\n",
    "\n",
    "#### alternative: the `from` ... `import` statement\n",
    "``` python\n",
    "    from mymod import times\n",
    "    \n",
    "    times(3, ['alpha', 'beta'])\n",
    "```\n",
    "In this case you only select the function(s) you need."
   ]
  },
  {
   "cell_type": "markdown",
   "metadata": {
    "slideshow": {
     "slide_type": "subslide"
    }
   },
   "source": [
    "### How are modules found?\n",
    "\n",
    "Python looks for a module in various locations:\n",
    "- the directory where the top-level program lives\n",
    "- each directory in the shell variable PYTHONPATH\n",
    "- the default path (defined during the intallation of Python)"
   ]
  },
  {
   "cell_type": "markdown",
   "metadata": {
    "slideshow": {
     "slide_type": "-"
    }
   },
   "source": [
    "On a Windows system you set PYTHONPATH like this:\n",
    "``` shell\n",
    "set PYTHONPATH=C:\\python36\\lib;C:\\Users\\Joop\\PythonLibs```\n",
    "On UNIX / Linux this is:\n",
    "``` shell\n",
    "export PYTHONPATH=/usr/local/lib/python:/home/joop/pythonlibs```"
   ]
  },
  {
   "cell_type": "markdown",
   "metadata": {
    "slideshow": {
     "slide_type": "slide"
    }
   },
   "source": [
    "# Quiz"
   ]
  },
  {
   "cell_type": "markdown",
   "metadata": {
    "slideshow": {
     "slide_type": "slide"
    }
   },
   "source": [
    "# os.walk\n",
    "Traverses a directory tree and for each subdirectory returns:\n",
    "\n",
    "  1                    |  2                     |  3\n",
    "-----------------------|------------------------|------------------------\n",
    "the name of the folder | a list with subfolders | a list with other files"
   ]
  },
  {
   "cell_type": "code",
   "execution_count": null,
   "metadata": {
    "slideshow": {
     "slide_type": "-"
    }
   },
   "outputs": [],
   "source": [
    "import os\n",
    "from os.path import isdir, join, getsize\n",
    "\n",
    "def dir_sizes(topdir):\n",
    "    for thisdir, subdirs, nondirs in os.walk(topdir):\n",
    "        total = 0\n",
    "\n",
    "        for name in nondirs:\n",
    "            path = join(thisdir, name)\n",
    "            try:\n",
    "                total += getsize(path)\n",
    "            except OSError:\n",
    "                pass\n",
    "\n",
    "        if total:\n",
    "            print('{:10} bytes used in {}'.format(total, thisdir))"
   ]
  },
  {
   "cell_type": "code",
   "execution_count": null,
   "metadata": {
    "scrolled": true,
    "slideshow": {
     "slide_type": "subslide"
    }
   },
   "outputs": [],
   "source": [
    "topdir = '/usr/lib'\n",
    "dir_sizes(topdir)"
   ]
  },
  {
   "cell_type": "markdown",
   "metadata": {
    "slideshow": {
     "slide_type": "slide"
    }
   },
   "source": [
    "# Webscraping with BeautifulSoup\n",
    "This is the page providing the info (and much more...)"
   ]
  },
  {
   "cell_type": "code",
   "execution_count": null,
   "metadata": {
    "slideshow": {
     "slide_type": "-"
    }
   },
   "outputs": [],
   "source": [
    "iframe(\"https://www.nu.nl/brandstof\", height=500)"
   ]
  },
  {
   "cell_type": "markdown",
   "metadata": {
    "slideshow": {
     "slide_type": "subslide"
    }
   },
   "source": [
    "##  The awesome `requests` module\n",
    "An elegant and simple HTTP library\n",
    "allowing you to send HTTP/1.1 requests.<br/>\n",
    "Add headers, form data, multipart files, and parameters with simple Python dictionaries."
   ]
  },
  {
   "cell_type": "code",
   "execution_count": null,
   "metadata": {
    "scrolled": true,
    "slideshow": {
     "slide_type": "-"
    }
   },
   "outputs": [],
   "source": [
    "import requests\n",
    "\n",
    "the_soup = requests.get(\"https://www.nu.nl/brandstof\").text\n",
    "print(the_soup[:1000])"
   ]
  },
  {
   "cell_type": "markdown",
   "metadata": {
    "slideshow": {
     "slide_type": "subslide"
    }
   },
   "source": [
    "## Determine what to look for...\n",
    "Define a generator function that *scrapes* the daily average price per liter for fuel."
   ]
  },
  {
   "cell_type": "code",
   "execution_count": null,
   "metadata": {
    "slideshow": {
     "slide_type": "-"
    }
   },
   "outputs": [],
   "source": [
    "import bs4\n",
    "import requests\n",
    "\n",
    "def scrape():\n",
    "    fuels = ('Euro95', 'Diesel', 'LPG')\n",
    "    response = requests.get(\"https://www.nu.nl/brandstof\")\n",
    "    soup = bs4.BeautifulSoup(response.text, 'html.parser')\n",
    "    targetcells = soup.find_all('td', string='GLA*')\n",
    "\n",
    "    for i, td in enumerate(targetcells): \n",
    "        pricecell = td.parent.contents[3]\n",
    "        yield fuels[i], pricecell.text.replace(',', '.')\n",
    "    \n",
    "        if i == 2: # only get Euro95, Diesel, and LPG\n",
    "            break\n",
    "            \n",
    "# TEST CODE\n",
    "for fueltype, price in scrape():\n",
    "    print(fueltype, price)\n",
    "    "
   ]
  },
  {
   "cell_type": "markdown",
   "metadata": {
    "slideshow": {
     "slide_type": "subslide"
    }
   },
   "source": [
    "# Relationele databases \n",
    "## SQLite3\n",
    "Define a function that stores the results in an SQLite embedded database."
   ]
  },
  {
   "cell_type": "code",
   "execution_count": null,
   "metadata": {
    "slideshow": {
     "slide_type": "-"
    }
   },
   "outputs": [],
   "source": [
    "import sqlite3\n",
    "\n",
    "def store(db, fuel, price):\n",
    "    curs = db.cursor()\n",
    "    try:\n",
    "        curs.execute('INSERT INTO prices (fuel, price) VALUES (?, ?)', (fuel, price))\n",
    "        db.commit()\n",
    "    finally:\n",
    "        curs.close() "
   ]
  },
  {
   "cell_type": "markdown",
   "metadata": {
    "slideshow": {
     "slide_type": "subslide"
    }
   },
   "source": [
    "## ... and action!\n",
    "Loop through today's results (*Euro95*, *Diesel* and *LPG*) and store the results in the database."
   ]
  },
  {
   "cell_type": "code",
   "execution_count": null,
   "metadata": {
    "slideshow": {
     "slide_type": "-"
    }
   },
   "outputs": [],
   "source": [
    "with sqlite3.connect('../data/fuelprices.db') as db:\n",
    "    for fuel, price in scrape():\n",
    "        print(fuel, price)\n",
    "        store(db, fuel, price)"
   ]
  },
  {
   "cell_type": "markdown",
   "metadata": {
    "slideshow": {
     "slide_type": "subslide"
    }
   },
   "source": [
    "### Show what's in the database:"
   ]
  },
  {
   "cell_type": "code",
   "execution_count": null,
   "metadata": {},
   "outputs": [],
   "source": [
    "with sqlite3.connect('../data/fuelprices.db') as db:\n",
    "    curs = db.cursor()\n",
    "    curs.execute('SELECT * FROM prices;')\n",
    "    for n, record in enumerate(curs):\n",
    "        if n > 100000: break\n",
    "        print(*record, sep=' | ')\n",
    "    curs.close()"
   ]
  },
  {
   "cell_type": "markdown",
   "metadata": {
    "slideshow": {
     "slide_type": "slide"
    }
   },
   "source": [
    "# Pandas &amp; matplotlib"
   ]
  },
  {
   "cell_type": "code",
   "execution_count": null,
   "metadata": {},
   "outputs": [],
   "source": [
    "import pandas as pd\n",
    "import matplotlib.pyplot as plt\n",
    "\n",
    "# df = pd.read_sql('SELECT * FROM prices;', con='sqlite:///../data/fuelprices.db', index_col='day')\n",
    "\n",
    "df = pd.read_sql_table('prices', con='sqlite:///../data/fuelprices.db', index_col='day')\n",
    "df.tail(7)"
   ]
  },
  {
   "cell_type": "code",
   "execution_count": null,
   "metadata": {},
   "outputs": [],
   "source": [
    "pd.__version__"
   ]
  },
  {
   "cell_type": "code",
   "execution_count": null,
   "metadata": {
    "scrolled": true,
    "slideshow": {
     "slide_type": "subslide"
    }
   },
   "outputs": [],
   "source": [
    "for kind in ['Euro95', 'Diesel', 'LPG']:\n",
    "    df[df.fuel == kind].plot(title=kind)"
   ]
  },
  {
   "cell_type": "markdown",
   "metadata": {
    "slideshow": {
     "slide_type": "slide"
    }
   },
   "source": [
    "# Webserver with Flask"
   ]
  },
  {
   "cell_type": "code",
   "execution_count": null,
   "metadata": {
    "slideshow": {
     "slide_type": "-"
    }
   },
   "outputs": [],
   "source": [
    "from flask import Flask, request, Response, g, render_template\n",
    "import logging\n",
    "\n",
    "app = Flask(__name__)\n",
    "app.logger.setLevel(logging.WARN)\n",
    "\n",
    "@app.route(\"/hello\") \n",
    "def hello():\n",
    "    return \"Hello World!\""
   ]
  },
  {
   "cell_type": "code",
   "execution_count": null,
   "metadata": {
    "slideshow": {
     "slide_type": "subslide"
    }
   },
   "outputs": [],
   "source": [
    "import threading\n",
    "from werkzeug.serving import make_server\n",
    "\n",
    "class FlaskServer(threading.Thread):\n",
    "\n",
    "    def __init__(self, app, host, port):\n",
    "        super().__init__()\n",
    "        self.srv = make_server(host=host, port=port, app=app)\n",
    "        \n",
    "    def __del__(self):\n",
    "        self.srv.shutdown()\n",
    "\n",
    "    def run(self):\n",
    "        self.srv.serve_forever()\n",
    "\n",
    "    def shutdown(self):\n",
    "        self.srv.shutdown()\n",
    "        \n",
    "    @classmethod\n",
    "    def startup(cls, app, host='localhost', port=5000):\n",
    "        server = cls(app, host, port)\n",
    "        server.start()\n",
    "        return server"
   ]
  },
  {
   "cell_type": "code",
   "execution_count": null,
   "metadata": {
    "scrolled": true,
    "slideshow": {
     "slide_type": "subslide"
    }
   },
   "outputs": [],
   "source": [
    "try:\n",
    "    server = FlaskServer.startup(app)\n",
    "except OSError:\n",
    "    print(\"Server (probably) already started\")"
   ]
  },
  {
   "cell_type": "code",
   "execution_count": null,
   "metadata": {
    "slideshow": {
     "slide_type": "-"
    }
   },
   "outputs": [],
   "source": [
    "iframe(\"http://localhost:5000/hello\", height=160)"
   ]
  },
  {
   "cell_type": "markdown",
   "metadata": {
    "slideshow": {
     "slide_type": "slide"
    }
   },
   "source": [
    "# Templating with Jinja2\n",
    "Add a function to our app that uses **Jinja2** to render server variables."
   ]
  },
  {
   "cell_type": "code",
   "execution_count": null,
   "metadata": {
    "scrolled": false,
    "slideshow": {
     "slide_type": "-"
    }
   },
   "outputs": [],
   "source": [
    "@app.route('/vars/') \n",
    "def show_server_vars():\n",
    "    env = request.environ\n",
    "    return render_template('vars.html',\n",
    "                           vars=[(k, env[k]) for k in sorted(env)])"
   ]
  },
  {
   "cell_type": "code",
   "execution_count": null,
   "metadata": {
    "scrolled": true,
    "slideshow": {
     "slide_type": "fragment"
    }
   },
   "outputs": [],
   "source": [
    "def print_file(fname):\n",
    "    with open(fname) as f: print(f.read())\n",
    "\n",
    "print_file('templates/vars.html')"
   ]
  },
  {
   "cell_type": "code",
   "execution_count": null,
   "metadata": {
    "slideshow": {
     "slide_type": "subslide"
    }
   },
   "outputs": [],
   "source": [
    "iframe(\"http://localhost:5000/vars/\", height=600, width=1400)"
   ]
  },
  {
   "cell_type": "markdown",
   "metadata": {
    "slideshow": {
     "slide_type": "subslide"
    }
   },
   "source": [
    "## Now let's make a web page that renders the fuel price info\n",
    "Some functions to connect to our SQLite database:"
   ]
  },
  {
   "cell_type": "code",
   "execution_count": null,
   "metadata": {
    "slideshow": {
     "slide_type": "-"
    }
   },
   "outputs": [],
   "source": [
    "import sqlite3\n",
    "from os.path import join\n",
    "\n",
    "\n",
    "def get_row_as_dict(row, curs):\n",
    "    return {col[0]:row[idx] for idx, col in enumerate(curs.description)}\n",
    "\n",
    "def do_query(query, bindings=(), result_set_name='result set'):\n",
    "    \"\"\"\n",
    "    Returns a single key dict, the value being a list of dicts. \n",
    "    Each dict in the list represents a row of database data.\n",
    "    \"\"\"\n",
    "    db = get_db()\n",
    "    curs = db.execute(query, bindings)    \n",
    "    return { result_set_name: [ get_row_as_dict(row, curs) for row in curs ] }\n",
    "\n",
    "def connect_db():\n",
    "    rv = sqlite3.connect(os.path.join(app.root_path, '..', 'data', 'fuelprices.db'))\n",
    "    rv.row_factory = sqlite3.Row\n",
    "    return rv\n",
    "\n",
    "def get_db():\n",
    "    if not hasattr(g, 'sqlite_db'):\n",
    "        g.sqlite_db = connect_db()\n",
    "    return g.sqlite_db"
   ]
  },
  {
   "cell_type": "code",
   "execution_count": null,
   "metadata": {
    "slideshow": {
     "slide_type": "subslide"
    }
   },
   "outputs": [],
   "source": [
    "@app.route('/')\n",
    "def fuels():\n",
    "    result = do_query('SELECT * FROM prices', result_set_name='fuels')\n",
    "    x = {}\n",
    "    for row in result['fuels']:\n",
    "        day = row['day']\n",
    "        fuel = row['fuel']\n",
    "        price = row['price']\n",
    "        try:\n",
    "            x[day][fuel] = price\n",
    "        except KeyError:\n",
    "            x[day] = {'Datum': day, fuel: '{:.3f}'.format(price)}\n",
    "    return render_template('fuels.html', \n",
    "                           fuels=[ x[day] for day in sorted(x, reverse=True) ])\n",
    "        "
   ]
  },
  {
   "cell_type": "code",
   "execution_count": null,
   "metadata": {
    "scrolled": false,
    "slideshow": {
     "slide_type": "fragment"
    }
   },
   "outputs": [],
   "source": [
    "print_file('templates/fuels.html')"
   ]
  },
  {
   "cell_type": "code",
   "execution_count": null,
   "metadata": {
    "slideshow": {
     "slide_type": "subslide"
    }
   },
   "outputs": [],
   "source": [
    "iframe(\"http://localhost:5000/\", height=500)"
   ]
  },
  {
   "cell_type": "code",
   "execution_count": null,
   "metadata": {
    "slideshow": {
     "slide_type": "subslide"
    }
   },
   "outputs": [],
   "source": [
    "@app.route('/greeting/', methods=['GET', 'POST'])\n",
    "def greeting():\n",
    "    if request.method == 'POST':\n",
    "        return render_template('greeting_post.html', name=request.form['name'])\n",
    "    else:\n",
    "        return render_template('greeting_get.html')"
   ]
  },
  {
   "cell_type": "code",
   "execution_count": null,
   "metadata": {
    "slideshow": {
     "slide_type": "fragment"
    }
   },
   "outputs": [],
   "source": [
    "print_file('templates/greeting_get.html')"
   ]
  },
  {
   "cell_type": "code",
   "execution_count": null,
   "metadata": {
    "slideshow": {
     "slide_type": "fragment"
    }
   },
   "outputs": [],
   "source": [
    "print_file('templates/greeting_post.html')"
   ]
  },
  {
   "cell_type": "code",
   "execution_count": null,
   "metadata": {
    "scrolled": true,
    "slideshow": {
     "slide_type": "subslide"
    }
   },
   "outputs": [],
   "source": [
    "iframe(\"http://localhost:5000/greeting/\", height=240)"
   ]
  },
  {
   "cell_type": "code",
   "execution_count": null,
   "metadata": {
    "slideshow": {
     "slide_type": "subslide"
    }
   },
   "outputs": [],
   "source": [
    "from functools import wraps\n",
    "\n",
    "def check_auth(username, password):\n",
    "    \"\"\"Checks for a valid username / password combination.\n",
    "    \"\"\"\n",
    "    pw_store = {'at': 'geheim', 'guru1': 'ookgeheim'}\n",
    "    return username in pw_store and password == pw_store[username]\n",
    "\n",
    "def authenticate():\n",
    "    \"\"\"Sends a 401 response that enables basic auth\"\"\"\n",
    "    return Response(\n",
    "    'Could not verify your access level for that URL.\\n'\n",
    "    'You have to login with proper credentials', 401,\n",
    "    {'WWW-Authenticate': 'Basic realm=\"Login Required\"'})\n",
    "\n",
    "def requires_auth(f):\n",
    "    @wraps(f)\n",
    "    def decorated(*args, **kwargs):\n",
    "        auth = request.authorization\n",
    "        if auth:\n",
    "            app.logger.info('[' + auth.username + '] ' + request.url)\n",
    "            if check_auth(auth.username, auth.password):\n",
    "                return f(*args, **kwargs)\n",
    "        return authenticate()\n",
    "     \n",
    "    return decorated"
   ]
  },
  {
   "cell_type": "code",
   "execution_count": null,
   "metadata": {
    "slideshow": {
     "slide_type": "subslide"
    }
   },
   "outputs": [],
   "source": [
    "@app.route('/secret/')\n",
    "@requires_auth\n",
    "def secret():\n",
    "    return render_template('secret.html')"
   ]
  },
  {
   "cell_type": "code",
   "execution_count": null,
   "metadata": {
    "scrolled": false
   },
   "outputs": [],
   "source": [
    "iframe(\"http://localhost:5000/secret/\")"
   ]
  },
  {
   "cell_type": "code",
   "execution_count": null,
   "metadata": {
    "slideshow": {
     "slide_type": "subslide"
    }
   },
   "outputs": [],
   "source": [
    "@app.teardown_appcontext\n",
    "def close_db(error):\n",
    "    if hasattr(g, 'sqlite_db'):\n",
    "        g.sqlite_db.close()"
   ]
  },
  {
   "cell_type": "code",
   "execution_count": null,
   "metadata": {
    "slideshow": {
     "slide_type": "skip"
    }
   },
   "outputs": [],
   "source": [
    "# server.shutdown()"
   ]
  },
  {
   "cell_type": "markdown",
   "metadata": {
    "slideshow": {
     "slide_type": "slide"
    }
   },
   "source": [
    "# Log file analyse"
   ]
  },
  {
   "cell_type": "code",
   "execution_count": null,
   "metadata": {
    "slideshow": {
     "slide_type": "-"
    }
   },
   "outputs": [],
   "source": [
    "import re\n",
    "from subprocess import Popen, PIPE\n",
    "from collections import Counter\n",
    "\n",
    "def get_log_freqs(log_application='journalctl'):\n",
    "    counter = Counter()\n",
    "\n",
    "    # Apr 13 14:46:23 adnovo.local kernel: BIOS-e820: [mem 0x0000000000000000- ....\n",
    "    c_re = re.compile(r'\\w{3} \\d{2} \\d{2}:\\d{2}:\\d{2} \\S* (\\S*): .*')\n",
    "\n",
    "    with Popen(log_application, shell=True, stdout=PIPE, universal_newlines=True) as log:\n",
    "        for line in log.stdout:\n",
    "            match = c_re.search(line)\n",
    "            if match:\n",
    "                who = match.group(1)\n",
    "                who = who.split('[')[0]\n",
    "                counter[who] += 1\n",
    "        log.stdout.close()\n",
    "    return counter"
   ]
  },
  {
   "cell_type": "code",
   "execution_count": null,
   "metadata": {
    "slideshow": {
     "slide_type": "subslide"
    }
   },
   "outputs": [],
   "source": [
    "import os\n",
    "\n",
    "def report_freqs(frequencies, key=None, reverse=False, number=None, width=None):\n",
    "    if not frequencies:\n",
    "        print('Nothing to report')\n",
    "        return\n",
    "    total = sum(frequencies.values())\n",
    "    maxratio = max(frequencies.values()) / total\n",
    "    \n",
    "    maxval_w = max(map(len, map(str, frequencies.values())))\n",
    "    maxkey_w = max(map(len, map(str, frequencies.keys())))\n",
    "\n",
    "    if os.isatty(1):\n",
    "        columns, rows = os.get_terminal_size()\n",
    "    else:\n",
    "        columns, rows = 80, 24\n",
    "\n",
    "    if number is None:\n",
    "        number = len(frequencies)\n",
    "    if width:\n",
    "        columns = width\n",
    "\n",
    "    barspace = columns - maxkey_w - maxval_w - 13\n",
    "\n",
    "    for i, k in enumerate(sorted(frequencies, key=key, reverse=reverse)):\n",
    "        if i >= number:\n",
    "            break\n",
    "        ratio = frequencies[k] / total\n",
    "        bar_w = round(ratio / maxratio * barspace)\n",
    "        print('{who:{w1}}: {freq:{w2}} ({perc:5.2f}%) {bar}'.format(who=k, freq=frequencies[k], perc=100 * ratio,\n",
    "                                                                    bar=bar_w * '\\u25a0', w1=maxkey_w, w2=maxval_w))\n"
   ]
  },
  {
   "cell_type": "code",
   "execution_count": null,
   "metadata": {
    "slideshow": {
     "slide_type": "subslide"
    }
   },
   "outputs": [],
   "source": [
    "freqs = get_log_freqs('journalctl')\n",
    "print(freqs)"
   ]
  },
  {
   "cell_type": "code",
   "execution_count": null,
   "metadata": {
    "slideshow": {
     "slide_type": "subslide"
    }
   },
   "outputs": [],
   "source": [
    "report_freqs(freqs, key=freqs.get, reverse=True, number=20)"
   ]
  },
  {
   "cell_type": "markdown",
   "metadata": {
    "slideshow": {
     "slide_type": "slide"
    }
   },
   "source": [
    "## Python and Machine Learning"
   ]
  },
  {
   "cell_type": "code",
   "execution_count": null,
   "metadata": {
    "slideshow": {
     "slide_type": "slide"
    }
   },
   "outputs": [],
   "source": [
    "import seaborn as sns\n",
    "iris = sns.load_dataset(\"iris\")\n",
    "iris"
   ]
  },
  {
   "cell_type": "code",
   "execution_count": null,
   "metadata": {
    "slideshow": {
     "slide_type": "subslide"
    }
   },
   "outputs": [],
   "source": [
    "iris.describe()"
   ]
  },
  {
   "cell_type": "code",
   "execution_count": null,
   "metadata": {
    "slideshow": {
     "slide_type": "subslide"
    }
   },
   "outputs": [],
   "source": [
    "sns.jointplot(x=\"sepal_length\", y=\"petal_length\", data=iris);"
   ]
  },
  {
   "cell_type": "code",
   "execution_count": null,
   "metadata": {
    "slideshow": {
     "slide_type": "slide"
    }
   },
   "outputs": [],
   "source": [
    "sns.pairplot(data=iris, hue=\"species\");"
   ]
  },
  {
   "cell_type": "code",
   "execution_count": null,
   "metadata": {
    "slideshow": {
     "slide_type": "slide"
    }
   },
   "outputs": [],
   "source": [
    "# We're using all four measurements as inputs\n",
    "# Note that scikit-learn expects each entry to be a list of values, e.g.,\n",
    "# [ [val1, val2, val3],\n",
    "#   [val1, val2, val3],\n",
    "#   ... ]\n",
    "# such that our input data set is represented as a list of lists\n",
    "\n",
    "# We can extract the data in this format from pandas like this:\n",
    "all_inputs = iris[['sepal_length', 'sepal_width',\n",
    "                             'petal_length', 'petal_width']].values\n",
    "\n",
    "# Similarly, we can extract the class labels\n",
    "all_labels = iris['species'].values\n",
    "\n",
    "# Make sure that you don't mix up the order of the entries\n",
    "# all_inputs[5] inputs should correspond to the class in all_labels[5]\n",
    "\n",
    "# Here's what a subset of our inputs looks like:\n",
    "all_labels[:5], all_inputs[:5]"
   ]
  },
  {
   "cell_type": "code",
   "execution_count": null,
   "metadata": {
    "slideshow": {
     "slide_type": "subslide"
    }
   },
   "outputs": [],
   "source": [
    "from sklearn.model_selection import train_test_split\n",
    "\n",
    "training_inputs, testing_inputs, training_classes, testing_classes = train_test_split(\n",
    "    all_inputs, all_labels, test_size=0.25, random_state=1)"
   ]
  },
  {
   "cell_type": "code",
   "execution_count": null,
   "metadata": {
    "slideshow": {
     "slide_type": "fragment"
    }
   },
   "outputs": [],
   "source": [
    "from sklearn.discriminant_analysis import QuadraticDiscriminantAnalysis\n",
    "qda = QuadraticDiscriminantAnalysis()\n",
    "qda.fit(training_inputs, training_classes)\n",
    "qda.score(testing_inputs, testing_classes)"
   ]
  },
  {
   "cell_type": "code",
   "execution_count": null,
   "metadata": {
    "slideshow": {
     "slide_type": "slide"
    }
   },
   "outputs": [],
   "source": []
  }
 ],
 "metadata": {
  "celltoolbar": "Slideshow",
  "kernelspec": {
   "display_name": "Python 3",
   "language": "python",
   "name": "python3"
  },
  "language_info": {
   "codemirror_mode": {
    "name": "ipython",
    "version": 3
   },
   "file_extension": ".py",
   "mimetype": "text/x-python",
   "name": "python",
   "nbconvert_exporter": "python",
   "pygments_lexer": "ipython3",
   "version": "3.8.2"
  },
  "livereveal": {
   "autolaunch": false,
   "overlay": "<div class='atfooter'><p>v0.1[ch02]</p></div><div class='atheader'><h2>Python Appetiser</h2></div><div><hr class='footerline'/></div><div class='footerlogo'><img src='ATlogo_simpel.svg' alt='at computing'></div>"
  },
  "name": "_merged"
 },
 "nbformat": 4,
 "nbformat_minor": 2
}
